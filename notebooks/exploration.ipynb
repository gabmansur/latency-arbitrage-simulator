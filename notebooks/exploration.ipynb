{
 "cells": [
  {
   "cell_type": "code",
   "execution_count": null,
   "metadata": {},
   "outputs": [
    {
     "ename": "ModuleNotFoundError",
     "evalue": "No module named 'simulator'",
     "output_type": "error",
     "traceback": [
      "\u001b[31m---------------------------------------------------------------------------\u001b[39m",
      "\u001b[31mModuleNotFoundError\u001b[39m                       Traceback (most recent call last)",
      "\u001b[36mCell\u001b[39m\u001b[36m \u001b[39m\u001b[32mIn[1]\u001b[39m\u001b[32m, line 1\u001b[39m\n\u001b[32m----> \u001b[39m\u001b[32m1\u001b[39m \u001b[38;5;28;01mfrom\u001b[39;00m\u001b[38;5;250m \u001b[39m\u001b[34;01msimulator\u001b[39;00m\u001b[34;01m.\u001b[39;00m\u001b[34;01mcore\u001b[39;00m\u001b[38;5;250m \u001b[39m\u001b[38;5;28;01mimport\u001b[39;00m LatencyArbitrageSimulator\n\u001b[32m      3\u001b[39m config = {\n\u001b[32m      4\u001b[39m     \u001b[33m\"\u001b[39m\u001b[33mexchanges\u001b[39m\u001b[33m\"\u001b[39m: [\n\u001b[32m      5\u001b[39m         {\u001b[33m\"\u001b[39m\u001b[33mname\u001b[39m\u001b[33m\"\u001b[39m: \u001b[33m\"\u001b[39m\u001b[33mBinance\u001b[39m\u001b[33m\"\u001b[39m, \u001b[33m\"\u001b[39m\u001b[33mbase_price\u001b[39m\u001b[33m\"\u001b[39m: \u001b[32m100\u001b[39m, \u001b[33m\"\u001b[39m\u001b[33mjitter\u001b[39m\u001b[33m\"\u001b[39m: \u001b[32m0.4\u001b[39m, \u001b[33m\"\u001b[39m\u001b[33mupdate_interval\u001b[39m\u001b[33m\"\u001b[39m: \u001b[32m0.2\u001b[39m},\n\u001b[32m   (...)\u001b[39m\u001b[32m     15\u001b[39m     }\n\u001b[32m     16\u001b[39m }\n\u001b[32m     18\u001b[39m sim = LatencyArbitrageSimulator(config)\n",
      "\u001b[31mModuleNotFoundError\u001b[39m: No module named 'simulator'"
     ]
    }
   ],
   "source": [
    "import sys\n",
    "import os\n",
    "sys.path.append(os.path.abspath(\"../src\"))\n",
    "\n",
    "from simulator.core import LatencyArbitrageSimulator\n",
    "\n",
    "config = {\n",
    "    \"exchanges\": [\n",
    "        {\"name\": \"Binance\", \"base_price\": 100, \"jitter\": 0.4, \"update_interval\": 0.2},\n",
    "        {\"name\": \"Coinbase\", \"base_price\": 100, \"jitter\": 0.5, \"update_interval\": 0.2},\n",
    "    ],\n",
    "    \"latency_matrix\": {\n",
    "        \"Binance\": {\"Coinbase\": 0.02},\n",
    "        \"Coinbase\": {\"Binance\": 0.025},\n",
    "    },\n",
    "    \"agent\": {\n",
    "        \"reaction_time\": 0.1,\n",
    "        \"threshold\": 0.2,\n",
    "    }\n",
    "}\n",
    "\n",
    "sim = LatencyArbitrageSimulator(config)\n",
    "results = sim.run(until=10)\n",
    "print(results)"
   ]
  }
 ],
 "metadata": {
  "kernelspec": {
   "display_name": "latency-arbitrage-simulator-T72Fhrku-py3.13",
   "language": "python",
   "name": "python3"
  },
  "language_info": {
   "codemirror_mode": {
    "name": "ipython",
    "version": 3
   },
   "file_extension": ".py",
   "mimetype": "text/x-python",
   "name": "python",
   "nbconvert_exporter": "python",
   "pygments_lexer": "ipython3",
   "version": "3.13.1"
  }
 },
 "nbformat": 4,
 "nbformat_minor": 2
}
